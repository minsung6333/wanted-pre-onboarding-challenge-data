{
  "cells": [
    {
      "cell_type": "markdown",
      "metadata": {
        "id": "view-in-github",
        "colab_type": "text"
      },
      "source": [
        "<a href=\"https://colab.research.google.com/github/minsung6333/wanted-pre-onboarding-challenge-data/blob/main/Numpy_Quiz_%ED%92%80%EC%9D%B4.ipynb\" target=\"_parent\"><img src=\"https://colab.research.google.com/assets/colab-badge.svg\" alt=\"Open In Colab\"/></a>"
      ]
    },
    {
      "cell_type": "code",
      "execution_count": 1,
      "id": "7d34f957",
      "metadata": {
        "id": "7d34f957"
      },
      "outputs": [],
      "source": [
        "# 필요한 라이브러리를 불러옵니다.\n",
        "import numpy as np"
      ]
    },
    {
      "cell_type": "markdown",
      "id": "e35027db",
      "metadata": {
        "id": "e35027db"
      },
      "source": [
        "### 1. 값이 10~49인 numpy array를 만드세요"
      ]
    },
    {
      "cell_type": "code",
      "execution_count": 7,
      "id": "186a443c",
      "metadata": {
        "colab": {
          "base_uri": "https://localhost:8080/"
        },
        "id": "186a443c",
        "outputId": "cc3f8fb8-08b0-481a-a73c-132f9da656cd"
      },
      "outputs": [
        {
          "output_type": "stream",
          "name": "stdout",
          "text": [
            "[10 11 12 13 14 15 16 17 18 19 20 21 22 23 24 25 26 27 28 29 30 31 32 33\n",
            " 34 35 36 37 38 39 40 41 42 43 44 45 46 47 48 49]\n"
          ]
        }
      ],
      "source": [
        "z = np.arange(10,50)\n",
        "print(z)"
      ]
    },
    {
      "cell_type": "markdown",
      "id": "7fe92102",
      "metadata": {
        "id": "7fe92102"
      },
      "source": [
        "### 2. z를 반전하세요."
      ]
    },
    {
      "cell_type": "code",
      "execution_count": 17,
      "id": "f78638fa",
      "metadata": {
        "colab": {
          "base_uri": "https://localhost:8080/"
        },
        "id": "f78638fa",
        "outputId": "ae9e97de-02c5-46b9-86ae-459c09ad927a"
      },
      "outputs": [
        {
          "output_type": "stream",
          "name": "stdout",
          "text": [
            "[49 48 47 46 45 44 43 42 41 40 39 38 37 36 35 34 33 32 31 30 29 28 27 26\n",
            " 25 24 23 22 21 20 19 18 17 16 15 14 13 12 11 10]\n"
          ]
        }
      ],
      "source": [
        "z = np.flip(z)\n",
        "print(z)"
      ]
    },
    {
      "cell_type": "markdown",
      "id": "a04b347c",
      "metadata": {
        "id": "a04b347c"
      },
      "source": [
        "### 3. 반전시킨 z 매트릭스를 10 x 4 매트릭스로 바꾸세요."
      ]
    },
    {
      "cell_type": "code",
      "execution_count": 28,
      "id": "fcf79ba9",
      "metadata": {
        "colab": {
          "base_uri": "https://localhost:8080/"
        },
        "id": "fcf79ba9",
        "outputId": "dd86afed-170c-4f12-bf04-6a3843c02228"
      },
      "outputs": [
        {
          "output_type": "stream",
          "name": "stdout",
          "text": [
            "[[49 48 47 46]\n",
            " [45 44 43 42]\n",
            " [41 40 39 38]\n",
            " [37 36 35 34]\n",
            " [33 32 31 30]\n",
            " [29 28 27 26]\n",
            " [25 24 23 22]\n",
            " [21 20 19 18]\n",
            " [17 16 15 14]\n",
            " [13 12 11 10]]\n"
          ]
        }
      ],
      "source": [
        "z = z.reshape(10,4)\n",
        "print(z)"
      ]
    },
    {
      "cell_type": "markdown",
      "id": "a8fb1466",
      "metadata": {
        "id": "a8fb1466"
      },
      "source": [
        "### 4. x에서 0이 아닌 요소의 색인을 찾아보세요."
      ]
    },
    {
      "cell_type": "code",
      "execution_count": 32,
      "id": "0b0944c7",
      "metadata": {
        "colab": {
          "base_uri": "https://localhost:8080/"
        },
        "id": "0b0944c7",
        "outputId": "aa72571f-4f31-4456-ad3d-7c84f1273af4"
      },
      "outputs": [
        {
          "output_type": "stream",
          "name": "stdout",
          "text": [
            "(array([0, 1, 2, 4, 6]),)\n"
          ]
        }
      ],
      "source": [
        "x = np.array([5,6,8,0,1,0,7])\n",
        "nz_idx = np.nonzero(x)\n",
        "print(nz_idx)"
      ]
    },
    {
      "cell_type": "code",
      "source": [
        "x = np.array([5,6,8,0,1,0,7])\n",
        "np.nonzero(x)"
      ],
      "metadata": {
        "colab": {
          "base_uri": "https://localhost:8080/"
        },
        "id": "XbZ5yg_5u59l",
        "outputId": "e6ffee49-1fc4-42e9-9593-c1c15732c175"
      },
      "id": "XbZ5yg_5u59l",
      "execution_count": 31,
      "outputs": [
        {
          "output_type": "execute_result",
          "data": {
            "text/plain": [
              "(array([0, 1, 2, 4, 6]),)"
            ]
          },
          "metadata": {},
          "execution_count": 31
        }
      ]
    },
    {
      "cell_type": "markdown",
      "id": "fb98a12e",
      "metadata": {
        "id": "fb98a12e"
      },
      "source": [
        "### nan 값 이해하기\n",
        "\n"
      ]
    },
    {
      "cell_type": "code",
      "execution_count": 33,
      "id": "7d12b519",
      "metadata": {
        "colab": {
          "base_uri": "https://localhost:8080/"
        },
        "id": "7d12b519",
        "outputId": "4c439992-dbbb-4e1e-f3a8-3c59fce8b329"
      },
      "outputs": [
        {
          "output_type": "stream",
          "name": "stdout",
          "text": [
            "False\n",
            "True\n",
            "False\n",
            "True\n"
          ]
        }
      ],
      "source": [
        "print(np.nan == np.nan)\n",
        "print(np.isnan(np.nan))\n",
        "\n",
        "import math\n",
        "print(0.3 == 3 * 0.1)\n",
        "print(math.isclose(0.1 + 0.2, 0.3))"
      ]
    },
    {
      "cell_type": "markdown",
      "id": "87f765ae",
      "metadata": {
        "id": "87f765ae"
      },
      "source": [
        "### 5. 12 x 12 매트릭스를 만들어 바둑판 패턴으로 0과 1을 채우세요"
      ]
    },
    {
      "cell_type": "code",
      "execution_count": 36,
      "id": "c5dade12",
      "metadata": {
        "colab": {
          "base_uri": "https://localhost:8080/"
        },
        "id": "c5dade12",
        "outputId": "96d80ed8-aa3c-448d-eeed-fae242905bdd"
      },
      "outputs": [
        {
          "output_type": "stream",
          "name": "stdout",
          "text": [
            "[[0. 0. 0. 0. 0. 0. 0. 0. 0. 0. 0. 0.]\n",
            " [0. 0. 0. 0. 0. 0. 0. 0. 0. 0. 0. 0.]\n",
            " [0. 0. 0. 0. 0. 0. 0. 0. 0. 0. 0. 0.]\n",
            " [0. 0. 0. 0. 0. 0. 0. 0. 0. 0. 0. 0.]\n",
            " [0. 0. 0. 0. 0. 0. 0. 0. 0. 0. 0. 0.]\n",
            " [0. 0. 0. 0. 0. 0. 0. 0. 0. 0. 0. 0.]\n",
            " [0. 0. 0. 0. 0. 0. 0. 0. 0. 0. 0. 0.]\n",
            " [0. 0. 0. 0. 0. 0. 0. 0. 0. 0. 0. 0.]\n",
            " [0. 0. 0. 0. 0. 0. 0. 0. 0. 0. 0. 0.]\n",
            " [0. 0. 0. 0. 0. 0. 0. 0. 0. 0. 0. 0.]\n",
            " [0. 0. 0. 0. 0. 0. 0. 0. 0. 0. 0. 0.]\n",
            " [0. 0. 0. 0. 0. 0. 0. 0. 0. 0. 0. 0.]]\n",
            "\n",
            "[[0. 1. 0. 1. 0. 1. 0. 1. 0. 1. 0. 1.]\n",
            " [1. 0. 1. 0. 1. 0. 1. 0. 1. 0. 1. 0.]\n",
            " [0. 1. 0. 1. 0. 1. 0. 1. 0. 1. 0. 1.]\n",
            " [1. 0. 1. 0. 1. 0. 1. 0. 1. 0. 1. 0.]\n",
            " [0. 1. 0. 1. 0. 1. 0. 1. 0. 1. 0. 1.]\n",
            " [1. 0. 1. 0. 1. 0. 1. 0. 1. 0. 1. 0.]\n",
            " [0. 1. 0. 1. 0. 1. 0. 1. 0. 1. 0. 1.]\n",
            " [1. 0. 1. 0. 1. 0. 1. 0. 1. 0. 1. 0.]\n",
            " [0. 1. 0. 1. 0. 1. 0. 1. 0. 1. 0. 1.]\n",
            " [1. 0. 1. 0. 1. 0. 1. 0. 1. 0. 1. 0.]\n",
            " [0. 1. 0. 1. 0. 1. 0. 1. 0. 1. 0. 1.]\n",
            " [1. 0. 1. 0. 1. 0. 1. 0. 1. 0. 1. 0.]]\n"
          ]
        }
      ],
      "source": [
        "x = np.zeros((12, 12))\n",
        "print(x, end='\\n\\n')\n",
        "###############\n",
        "# 슬라이싱을 사용하세요\n",
        "x[1::2, ::2] = 1\n",
        "x[::2, 1::2] =1\n",
        "\n",
        "###############\n",
        "print(x)"
      ]
    },
    {
      "cell_type": "markdown",
      "id": "8765875e",
      "metadata": {
        "id": "8765875e"
      },
      "source": [
        "### 6. np.tile 을 이용해서 동일한 바둑판 배턴을 만들어보세요"
      ]
    },
    {
      "cell_type": "code",
      "execution_count": 49,
      "id": "fe6834dd",
      "metadata": {
        "colab": {
          "base_uri": "https://localhost:8080/"
        },
        "id": "fe6834dd",
        "outputId": "13323537-120e-4afe-d530-dc2ac012185c"
      },
      "outputs": [
        {
          "output_type": "stream",
          "name": "stdout",
          "text": [
            "[[0 1 0 1 0 1 0 1 0 1 0 1]\n",
            " [1 0 1 0 1 0 1 0 1 0 1 0]\n",
            " [0 1 0 1 0 1 0 1 0 1 0 1]\n",
            " [1 0 1 0 1 0 1 0 1 0 1 0]\n",
            " [0 1 0 1 0 1 0 1 0 1 0 1]\n",
            " [1 0 1 0 1 0 1 0 1 0 1 0]\n",
            " [0 1 0 1 0 1 0 1 0 1 0 1]\n",
            " [1 0 1 0 1 0 1 0 1 0 1 0]\n",
            " [0 1 0 1 0 1 0 1 0 1 0 1]\n",
            " [1 0 1 0 1 0 1 0 1 0 1 0]\n",
            " [0 1 0 1 0 1 0 1 0 1 0 1]\n",
            " [1 0 1 0 1 0 1 0 1 0 1 0]]\n"
          ]
        }
      ],
      "source": [
        "x = np.tile(np.array([[0,1],[1,0]]), (6,6))\n",
        "print(x)"
      ]
    },
    {
      "cell_type": "markdown",
      "id": "b1a5847c",
      "metadata": {
        "id": "b1a5847c"
      },
      "source": [
        "### 7. 1차원 배열이 x에서 값이 5~10인 요소를 0으로 바꾸세요"
      ]
    },
    {
      "cell_type": "code",
      "source": [
        "x = np.array([2,5,3,8,3,34,23,7,10])\n",
        "print(x)\n",
        "##################\n",
        "# 필터링을 사용하세요.\n",
        "\n",
        "mask = np.logical_and(x >= 5, x <= 10)\n",
        "x[mask] = 0\n",
        "\n",
        "##################\n",
        "print(x)"
      ],
      "metadata": {
        "colab": {
          "base_uri": "https://localhost:8080/"
        },
        "id": "4OqFh_ik2qCB",
        "outputId": "fcefbf7d-f9a2-415b-fdea-ab0ecc79cd9e"
      },
      "id": "4OqFh_ik2qCB",
      "execution_count": 50,
      "outputs": [
        {
          "output_type": "stream",
          "name": "stdout",
          "text": [
            "[ 2  5  3  8  3 34 23  7 10]\n",
            "[ 2  0  3  0  3 34 23  0  0]\n"
          ]
        }
      ]
    },
    {
      "cell_type": "markdown",
      "id": "d5bd1501",
      "metadata": {
        "id": "d5bd1501"
      },
      "source": [
        "### 8. 0에서 100 사이의 값으로 크기가 10인 1차원 array를 만드세요"
      ]
    },
    {
      "cell_type": "code",
      "execution_count": 52,
      "id": "88e38f0e",
      "metadata": {
        "colab": {
          "base_uri": "https://localhost:8080/"
        },
        "id": "88e38f0e",
        "outputId": "0e6db648-c024-4400-d61e-d8644a5b3085"
      },
      "outputs": [
        {
          "output_type": "stream",
          "name": "stdout",
          "text": [
            "[18 61 26 65 65 51 42 96 34 58]\n"
          ]
        }
      ],
      "source": [
        "x = np.random.randint(0,101, size=10)\n",
        "print(x)"
      ]
    },
    {
      "cell_type": "code",
      "source": [
        "np.random.randint(0,101, size=10)"
      ],
      "metadata": {
        "colab": {
          "base_uri": "https://localhost:8080/"
        },
        "id": "Pcs3hY1P3FN1",
        "outputId": "a3889fad-6428-4d2a-8fe4-dc5dd0f9c57f"
      },
      "id": "Pcs3hY1P3FN1",
      "execution_count": 51,
      "outputs": [
        {
          "output_type": "execute_result",
          "data": {
            "text/plain": [
              "array([13, 78, 22, 93, 23, 22, 78, 78, 70, 66])"
            ]
          },
          "metadata": {},
          "execution_count": 51
        }
      ]
    },
    {
      "cell_type": "markdown",
      "id": "143e78e1",
      "metadata": {
        "id": "143e78e1"
      },
      "source": [
        "### 9. np.allclose() 함수를 사용하여 2개의 array가 같은지를 확인해보세요"
      ]
    },
    {
      "cell_type": "code",
      "execution_count": 53,
      "id": "56449e50",
      "metadata": {
        "colab": {
          "base_uri": "https://localhost:8080/"
        },
        "id": "56449e50",
        "outputId": "f3e03f36-5837-469f-97bb-a48e342beec7"
      },
      "outputs": [
        {
          "output_type": "stream",
          "name": "stdout",
          "text": [
            "True\n"
          ]
        }
      ],
      "source": [
        "A = np.array([1e10,1e-8])\n",
        "B = np.array([1.00001e10,1e-9])\n",
        "\n",
        "equal = np.allclose(A, B)\n",
        "print(equal)"
      ]
    },
    {
      "cell_type": "code",
      "source": [],
      "metadata": {
        "id": "zQv8P3sn3YuA"
      },
      "id": "zQv8P3sn3YuA",
      "execution_count": null,
      "outputs": []
    },
    {
      "cell_type": "markdown",
      "id": "26819557",
      "metadata": {
        "id": "26819557"
      },
      "source": [
        "### 10. 데카르트 좌표를 나타내는 랜덤 8 x 2 행렬을 고려하여 극좌표로 변환해보세요."
      ]
    },
    {
      "cell_type": "code",
      "execution_count": 54,
      "id": "4136e249",
      "metadata": {
        "colab": {
          "base_uri": "https://localhost:8080/"
        },
        "id": "4136e249",
        "outputId": "5d3ab0c0-c15a-4c5a-8f2a-a19f67257484"
      },
      "outputs": [
        {
          "output_type": "stream",
          "name": "stdout",
          "text": [
            "[[0.57091604 1.33260733]\n",
            " [1.03116455 0.32068196]\n",
            " [0.54029641 1.47167361]\n",
            " [0.85645672 0.18078791]\n",
            " [1.02242561 1.34972363]\n",
            " [0.14178954 0.56620308]\n",
            " [0.43340373 0.71655973]\n",
            " [0.72666238 1.22735955]\n",
            " [1.11228271 0.91411509]\n",
            " [0.96167406 0.13608163]]\n"
          ]
        }
      ],
      "source": [
        "coord = np.random.random((10,2))\n",
        "x, y = coord[:,0], coord[:,1]\n",
        "r = np.sqrt(x**2 + y**2)\n",
        "theta = np.arctan2(y, x)\n",
        "ploar_coord = np.concatenate([r[:,np.newaxis], theta[:,np.newaxis]],axis=1)\n",
        "print(ploar_coord)"
      ]
    },
    {
      "cell_type": "code",
      "execution_count": null,
      "id": "40708824",
      "metadata": {
        "id": "40708824"
      },
      "outputs": [],
      "source": []
    }
  ],
  "metadata": {
    "kernelspec": {
      "display_name": "Python 3 (ipykernel)",
      "language": "python",
      "name": "python3"
    },
    "language_info": {
      "codemirror_mode": {
        "name": "ipython",
        "version": 3
      },
      "file_extension": ".py",
      "mimetype": "text/x-python",
      "name": "python",
      "nbconvert_exporter": "python",
      "pygments_lexer": "ipython3",
      "version": "3.8.0"
    },
    "colab": {
      "provenance": [],
      "include_colab_link": true
    }
  },
  "nbformat": 4,
  "nbformat_minor": 5
}